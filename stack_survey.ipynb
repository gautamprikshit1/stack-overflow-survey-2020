{
 "cells": [
  {
   "cell_type": "code",
   "execution_count": 1,
   "id": "b5d38e72",
   "metadata": {},
   "outputs": [],
   "source": [
    "import pandas as pd\n",
    "df = pd.read_csv(\"survey_results_public.csv\", index_col=\"Respondent\")\n",
    "pd.set_option('display.max_columns', 85)\n",
    "pd.set_option('display.max_rows', 85)"
   ]
  },
  {
   "cell_type": "code",
   "execution_count": 2,
   "id": "e77490ea",
   "metadata": {},
   "outputs": [],
   "source": [
    "country_grp = df.groupby('Country')"
   ]
  },
  {
   "cell_type": "code",
   "execution_count": 3,
   "id": "8ba5fab1",
   "metadata": {},
   "outputs": [
    {
     "data": {
      "text/html": [
       "<div>\n",
       "<style scoped>\n",
       "    .dataframe tbody tr th:only-of-type {\n",
       "        vertical-align: middle;\n",
       "    }\n",
       "\n",
       "    .dataframe tbody tr th {\n",
       "        vertical-align: top;\n",
       "    }\n",
       "\n",
       "    .dataframe thead th {\n",
       "        text-align: right;\n",
       "    }\n",
       "</style>\n",
       "<table border=\"1\" class=\"dataframe\">\n",
       "  <thead>\n",
       "    <tr style=\"text-align: right;\">\n",
       "      <th></th>\n",
       "      <th>QuestionText</th>\n",
       "    </tr>\n",
       "    <tr>\n",
       "      <th>Column</th>\n",
       "      <th></th>\n",
       "    </tr>\n",
       "  </thead>\n",
       "  <tbody>\n",
       "    <tr>\n",
       "      <th>Respondent</th>\n",
       "      <td>Randomized respondent ID number (not in order ...</td>\n",
       "    </tr>\n",
       "    <tr>\n",
       "      <th>MainBranch</th>\n",
       "      <td>Which of the following options best describes ...</td>\n",
       "    </tr>\n",
       "    <tr>\n",
       "      <th>Hobbyist</th>\n",
       "      <td>Do you code as a hobby?</td>\n",
       "    </tr>\n",
       "    <tr>\n",
       "      <th>Age</th>\n",
       "      <td>What is your age (in years)? If you prefer not...</td>\n",
       "    </tr>\n",
       "    <tr>\n",
       "      <th>Age1stCode</th>\n",
       "      <td>At what age did you write your first line of c...</td>\n",
       "    </tr>\n",
       "    <tr>\n",
       "      <th>CompFreq</th>\n",
       "      <td>Is that compensation weekly, monthly, or yearly?</td>\n",
       "    </tr>\n",
       "    <tr>\n",
       "      <th>CompTotal</th>\n",
       "      <td>What is your current total compensation (salar...</td>\n",
       "    </tr>\n",
       "    <tr>\n",
       "      <th>ConvertedComp</th>\n",
       "      <td>Salary converted to annual USD salaries using ...</td>\n",
       "    </tr>\n",
       "    <tr>\n",
       "      <th>Country</th>\n",
       "      <td>Where do you live?</td>\n",
       "    </tr>\n",
       "    <tr>\n",
       "      <th>CurrencyDesc</th>\n",
       "      <td>Which currency do you use day-to-day? If your ...</td>\n",
       "    </tr>\n",
       "    <tr>\n",
       "      <th>CurrencySymbol</th>\n",
       "      <td>Which currency do you use day-to-day? If your ...</td>\n",
       "    </tr>\n",
       "    <tr>\n",
       "      <th>DatabaseDesireNextYear</th>\n",
       "      <td>Which database environments have you done exte...</td>\n",
       "    </tr>\n",
       "    <tr>\n",
       "      <th>DatabaseWorkedWith</th>\n",
       "      <td>Which database environments have you done exte...</td>\n",
       "    </tr>\n",
       "    <tr>\n",
       "      <th>DevType</th>\n",
       "      <td>Which of the following describe you? Please se...</td>\n",
       "    </tr>\n",
       "    <tr>\n",
       "      <th>EdLevel</th>\n",
       "      <td>Which of the following best describes the high...</td>\n",
       "    </tr>\n",
       "    <tr>\n",
       "      <th>Employment</th>\n",
       "      <td>Which of the following best describes your cur...</td>\n",
       "    </tr>\n",
       "    <tr>\n",
       "      <th>Ethnicity</th>\n",
       "      <td>Which of the following describe you, if any? P...</td>\n",
       "    </tr>\n",
       "    <tr>\n",
       "      <th>Gender</th>\n",
       "      <td>Which of the following describe you, if any? P...</td>\n",
       "    </tr>\n",
       "    <tr>\n",
       "      <th>JobFactors</th>\n",
       "      <td>Imagine that you are deciding between two job ...</td>\n",
       "    </tr>\n",
       "    <tr>\n",
       "      <th>JobSat</th>\n",
       "      <td>How satisfied are you with your current job? (...</td>\n",
       "    </tr>\n",
       "    <tr>\n",
       "      <th>JobSeek</th>\n",
       "      <td>Which of the following best describes your cur...</td>\n",
       "    </tr>\n",
       "    <tr>\n",
       "      <th>LanguageDesireNextYear</th>\n",
       "      <td>Which programming, scripting, and markup langu...</td>\n",
       "    </tr>\n",
       "    <tr>\n",
       "      <th>LanguageWorkedWith</th>\n",
       "      <td>Which programming, scripting, and markup langu...</td>\n",
       "    </tr>\n",
       "    <tr>\n",
       "      <th>MiscTechDesireNextYear</th>\n",
       "      <td>Which other frameworks, libraries, and tools h...</td>\n",
       "    </tr>\n",
       "    <tr>\n",
       "      <th>MiscTechWorkedWith</th>\n",
       "      <td>Which other frameworks, libraries, and tools h...</td>\n",
       "    </tr>\n",
       "    <tr>\n",
       "      <th>NEWCollabToolsDesireNextYear</th>\n",
       "      <td>Which collaboration tools have you done extens...</td>\n",
       "    </tr>\n",
       "    <tr>\n",
       "      <th>NEWCollabToolsWorkedWith</th>\n",
       "      <td>Which collaboration tools have you done extens...</td>\n",
       "    </tr>\n",
       "    <tr>\n",
       "      <th>NEWDevOps</th>\n",
       "      <td>Does your company have a dedicated DevOps person?</td>\n",
       "    </tr>\n",
       "    <tr>\n",
       "      <th>NEWDevOpsImpt</th>\n",
       "      <td>How important is the practice of DevOps to sca...</td>\n",
       "    </tr>\n",
       "    <tr>\n",
       "      <th>NEWEdImpt</th>\n",
       "      <td>How important is a formal education, such as a...</td>\n",
       "    </tr>\n",
       "    <tr>\n",
       "      <th>NEWJobHunt</th>\n",
       "      <td>In general, what drives you to look for a new ...</td>\n",
       "    </tr>\n",
       "    <tr>\n",
       "      <th>NEWJobHuntResearch</th>\n",
       "      <td>When job searching, how do you learn more abou...</td>\n",
       "    </tr>\n",
       "    <tr>\n",
       "      <th>NEWLearn</th>\n",
       "      <td>How frequently do you learn a new language or ...</td>\n",
       "    </tr>\n",
       "    <tr>\n",
       "      <th>NEWOffTopic</th>\n",
       "      <td>Do you think Stack Overflow should relax restr...</td>\n",
       "    </tr>\n",
       "    <tr>\n",
       "      <th>NEWOnboardGood</th>\n",
       "      <td>Do you think your company has a good onboardin...</td>\n",
       "    </tr>\n",
       "    <tr>\n",
       "      <th>NEWOtherComms</th>\n",
       "      <td>Are you a member of any other online developer...</td>\n",
       "    </tr>\n",
       "    <tr>\n",
       "      <th>NEWOvertime</th>\n",
       "      <td>How often do you work overtime or beyond the f...</td>\n",
       "    </tr>\n",
       "    <tr>\n",
       "      <th>NEWPurchaseResearch</th>\n",
       "      <td>When buying a new tool or software, how do you...</td>\n",
       "    </tr>\n",
       "    <tr>\n",
       "      <th>NEWPurpleLink</th>\n",
       "      <td>You search for a coding solution online and th...</td>\n",
       "    </tr>\n",
       "    <tr>\n",
       "      <th>NEWSOSites</th>\n",
       "      <td>Which of the following Stack Overflow sites ha...</td>\n",
       "    </tr>\n",
       "    <tr>\n",
       "      <th>NEWStuck</th>\n",
       "      <td>What do you do when you get stuck on a problem...</td>\n",
       "    </tr>\n",
       "    <tr>\n",
       "      <th>OpSys</th>\n",
       "      <td>What is the primary operating system in which ...</td>\n",
       "    </tr>\n",
       "    <tr>\n",
       "      <th>OrgSize</th>\n",
       "      <td>Approximately how many people are employed by ...</td>\n",
       "    </tr>\n",
       "    <tr>\n",
       "      <th>PlatformDesireNextYear</th>\n",
       "      <td>Which platforms have you done extensive develo...</td>\n",
       "    </tr>\n",
       "    <tr>\n",
       "      <th>PlatformWorkedWith</th>\n",
       "      <td>Which platforms have you done extensive develo...</td>\n",
       "    </tr>\n",
       "    <tr>\n",
       "      <th>PurchaseWhat</th>\n",
       "      <td>What level of influence do you, personally, ha...</td>\n",
       "    </tr>\n",
       "    <tr>\n",
       "      <th>Sexuality</th>\n",
       "      <td>Which of the following describe you, if any? P...</td>\n",
       "    </tr>\n",
       "    <tr>\n",
       "      <th>SOAccount</th>\n",
       "      <td>Do you have a Stack Overflow account?</td>\n",
       "    </tr>\n",
       "    <tr>\n",
       "      <th>SOComm</th>\n",
       "      <td>Do you consider yourself a member of the Stack...</td>\n",
       "    </tr>\n",
       "    <tr>\n",
       "      <th>SOPartFreq</th>\n",
       "      <td>How frequently would you say you participate i...</td>\n",
       "    </tr>\n",
       "    <tr>\n",
       "      <th>SOVisitFreq</th>\n",
       "      <td>How frequently would you say you visit Stack O...</td>\n",
       "    </tr>\n",
       "    <tr>\n",
       "      <th>SurveyEase</th>\n",
       "      <td>How easy or difficult was this survey to compl...</td>\n",
       "    </tr>\n",
       "    <tr>\n",
       "      <th>SurveyLength</th>\n",
       "      <td>How do you feel about the length of the survey...</td>\n",
       "    </tr>\n",
       "    <tr>\n",
       "      <th>Trans</th>\n",
       "      <td>Are you transgender?</td>\n",
       "    </tr>\n",
       "    <tr>\n",
       "      <th>UndergradMajor</th>\n",
       "      <td>What was your primary field of study?</td>\n",
       "    </tr>\n",
       "    <tr>\n",
       "      <th>WebframeDesireNextYear</th>\n",
       "      <td>Which web frameworks have you done extensive d...</td>\n",
       "    </tr>\n",
       "    <tr>\n",
       "      <th>WebframeWorkedWith</th>\n",
       "      <td>Which web frameworks have you done extensive d...</td>\n",
       "    </tr>\n",
       "    <tr>\n",
       "      <th>WelcomeChange</th>\n",
       "      <td>Compared to last year, how welcome do you feel...</td>\n",
       "    </tr>\n",
       "    <tr>\n",
       "      <th>WorkWeekHrs</th>\n",
       "      <td>On average, how many hours per week do you wor...</td>\n",
       "    </tr>\n",
       "    <tr>\n",
       "      <th>YearsCode</th>\n",
       "      <td>Including any education, how many years have y...</td>\n",
       "    </tr>\n",
       "    <tr>\n",
       "      <th>YearsCodePro</th>\n",
       "      <td>NOT including education, how many years have y...</td>\n",
       "    </tr>\n",
       "  </tbody>\n",
       "</table>\n",
       "</div>"
      ],
      "text/plain": [
       "                                                                   QuestionText\n",
       "Column                                                                         \n",
       "Respondent                    Randomized respondent ID number (not in order ...\n",
       "MainBranch                    Which of the following options best describes ...\n",
       "Hobbyist                                                Do you code as a hobby?\n",
       "Age                           What is your age (in years)? If you prefer not...\n",
       "Age1stCode                    At what age did you write your first line of c...\n",
       "CompFreq                       Is that compensation weekly, monthly, or yearly?\n",
       "CompTotal                     What is your current total compensation (salar...\n",
       "ConvertedComp                 Salary converted to annual USD salaries using ...\n",
       "Country                                                      Where do you live?\n",
       "CurrencyDesc                  Which currency do you use day-to-day? If your ...\n",
       "CurrencySymbol                Which currency do you use day-to-day? If your ...\n",
       "DatabaseDesireNextYear        Which database environments have you done exte...\n",
       "DatabaseWorkedWith            Which database environments have you done exte...\n",
       "DevType                       Which of the following describe you? Please se...\n",
       "EdLevel                       Which of the following best describes the high...\n",
       "Employment                    Which of the following best describes your cur...\n",
       "Ethnicity                     Which of the following describe you, if any? P...\n",
       "Gender                        Which of the following describe you, if any? P...\n",
       "JobFactors                    Imagine that you are deciding between two job ...\n",
       "JobSat                        How satisfied are you with your current job? (...\n",
       "JobSeek                       Which of the following best describes your cur...\n",
       "LanguageDesireNextYear        Which programming, scripting, and markup langu...\n",
       "LanguageWorkedWith            Which programming, scripting, and markup langu...\n",
       "MiscTechDesireNextYear        Which other frameworks, libraries, and tools h...\n",
       "MiscTechWorkedWith            Which other frameworks, libraries, and tools h...\n",
       "NEWCollabToolsDesireNextYear  Which collaboration tools have you done extens...\n",
       "NEWCollabToolsWorkedWith      Which collaboration tools have you done extens...\n",
       "NEWDevOps                     Does your company have a dedicated DevOps person?\n",
       "NEWDevOpsImpt                 How important is the practice of DevOps to sca...\n",
       "NEWEdImpt                     How important is a formal education, such as a...\n",
       "NEWJobHunt                    In general, what drives you to look for a new ...\n",
       "NEWJobHuntResearch            When job searching, how do you learn more abou...\n",
       "NEWLearn                      How frequently do you learn a new language or ...\n",
       "NEWOffTopic                   Do you think Stack Overflow should relax restr...\n",
       "NEWOnboardGood                Do you think your company has a good onboardin...\n",
       "NEWOtherComms                 Are you a member of any other online developer...\n",
       "NEWOvertime                   How often do you work overtime or beyond the f...\n",
       "NEWPurchaseResearch           When buying a new tool or software, how do you...\n",
       "NEWPurpleLink                 You search for a coding solution online and th...\n",
       "NEWSOSites                    Which of the following Stack Overflow sites ha...\n",
       "NEWStuck                      What do you do when you get stuck on a problem...\n",
       "OpSys                         What is the primary operating system in which ...\n",
       "OrgSize                       Approximately how many people are employed by ...\n",
       "PlatformDesireNextYear        Which platforms have you done extensive develo...\n",
       "PlatformWorkedWith            Which platforms have you done extensive develo...\n",
       "PurchaseWhat                  What level of influence do you, personally, ha...\n",
       "Sexuality                     Which of the following describe you, if any? P...\n",
       "SOAccount                                 Do you have a Stack Overflow account?\n",
       "SOComm                        Do you consider yourself a member of the Stack...\n",
       "SOPartFreq                    How frequently would you say you participate i...\n",
       "SOVisitFreq                   How frequently would you say you visit Stack O...\n",
       "SurveyEase                    How easy or difficult was this survey to compl...\n",
       "SurveyLength                  How do you feel about the length of the survey...\n",
       "Trans                                                      Are you transgender?\n",
       "UndergradMajor                            What was your primary field of study?\n",
       "WebframeDesireNextYear        Which web frameworks have you done extensive d...\n",
       "WebframeWorkedWith            Which web frameworks have you done extensive d...\n",
       "WelcomeChange                 Compared to last year, how welcome do you feel...\n",
       "WorkWeekHrs                   On average, how many hours per week do you wor...\n",
       "YearsCode                     Including any education, how many years have y...\n",
       "YearsCodePro                  NOT including education, how many years have y..."
      ]
     },
     "execution_count": 3,
     "metadata": {},
     "output_type": "execute_result"
    }
   ],
   "source": [
    "df_schema = pd.read_csv(\"survey_results_schema.csv\", index_col=\"Column\")\n",
    "df_schema"
   ]
  },
  {
   "cell_type": "code",
   "execution_count": 4,
   "id": "3b7f0231",
   "metadata": {
    "scrolled": true
   },
   "outputs": [],
   "source": [
    "df['YearsCodePro'].replace('Less than 1 year', '0', inplace=True)\n",
    "df['YearsCodePro'].replace('More than 50 years', '50', inplace=True)"
   ]
  },
  {
   "cell_type": "code",
   "execution_count": 5,
   "id": "7f18bf9e",
   "metadata": {},
   "outputs": [],
   "source": [
    "import numpy as np\n",
    "df['YearsCodePro'].replace(np.nan, str(int(df['YearsCodePro'].median())), inplace=True)"
   ]
  },
  {
   "cell_type": "code",
   "execution_count": 6,
   "id": "9e9000ff",
   "metadata": {},
   "outputs": [],
   "source": [
    "salary_by_exp = df.groupby('YearsCodePro')[['YearsCodePro','ConvertedComp']].median()\n",
    "salary_by_exp.reset_index(inplace=True)"
   ]
  },
  {
   "cell_type": "code",
   "execution_count": 7,
   "id": "db48faf9",
   "metadata": {},
   "outputs": [],
   "source": [
    "import matplotlib.pyplot as plt"
   ]
  },
  {
   "cell_type": "code",
   "execution_count": 8,
   "id": "f8ed280e",
   "metadata": {},
   "outputs": [],
   "source": [
    "edu_levels = country_grp.get_group('India')['EdLevel'].value_counts()"
   ]
  },
  {
   "cell_type": "code",
   "execution_count": 9,
   "id": "0fd53874",
   "metadata": {},
   "outputs": [
    {
     "data": {
      "text/plain": [
       "20 to 99 employees                                    22.650700\n",
       "100 to 499 employees                                  17.881064\n",
       "10,000 or more employees                              16.500913\n",
       "10 to 19 employees                                    11.447128\n",
       "2 to 9 employees                                       9.113051\n",
       "1,000 to 4,999 employees                               8.301197\n",
       "500 to 999 employees                                   6.576010\n",
       "5,000 to 9,999 employees                               4.282525\n",
       "Just me - I am a freelancer, sole proprietor, etc.     3.247412\n",
       "Name: OrgSize, dtype: float64"
      ]
     },
     "execution_count": 9,
     "metadata": {},
     "output_type": "execute_result"
    }
   ],
   "source": [
    "country_grp.get_group('India')['OrgSize'].value_counts(normalize=True)*100"
   ]
  },
  {
   "cell_type": "code",
   "execution_count": 10,
   "id": "e36d4614",
   "metadata": {},
   "outputs": [
    {
     "data": {
      "text/plain": [
       "40.34524695954331"
      ]
     },
     "execution_count": 10,
     "metadata": {},
     "output_type": "execute_result"
    }
   ],
   "source": [
    "india = country_grp.get_group('India')\n",
    "india['WorkWeekHrs'].mean()"
   ]
  },
  {
   "cell_type": "code",
   "execution_count": 11,
   "id": "0153a3a0",
   "metadata": {},
   "outputs": [
    {
     "data": {
      "text/plain": [
       "array([  nan,  25. ,  31. ,  36. ,  30. ,  22. ,  23. ,  49. ,  53. ,\n",
       "        27. ,  45. ,  32. ,  24. ,  40. ,  18. ,  39. ,  29. ,  16. ,\n",
       "        34. ,  19. ,  35. ,  20. ,  38. ,  57. ,  28. ,  17. ,  44. ,\n",
       "        21. ,  48. ,  26. ,  42. ,  55. ,  37. ,  50. ,  41. ,  64. ,\n",
       "        63. ,  33. ,  43. ,  51. ,  60. ,  59. ,  62. ,  69. ,  52. ,\n",
       "        46. ,  49.5,  56. ,  47. ,  15. ,  72. ,  13. ,  71. ,  54. ,\n",
       "        70. ,  11. ,  14. ,  61. ,  26.8,  86. ,  58. ,  67. ,  94. ,\n",
       "        65. ,  66. ,  84. ,  73. ,  78. ,  68. ,  99. ,  74. ,  12. ,\n",
       "        77. ,  15.5,  85. ,  76. ,  35.7,  32.5,  81. ,  23.8,  97. ,\n",
       "        96. ,  26.5,   3. ,  24.5,  14.7,  34.5,   5. ,   1. ,  20.5,\n",
       "        79. , 279. ,  22.5,  27.5,  32.8,  10. ,  89. ,  80. ,  98. ,\n",
       "        19.8,   7. ,  21.5,  31.5,  88. ,  39.5,  16.5,  75. ,  83. ,\n",
       "        23.4,  95. ,  14.5])"
      ]
     },
     "execution_count": 11,
     "metadata": {},
     "output_type": "execute_result"
    }
   ],
   "source": [
    "df['Age'].unique()"
   ]
  },
  {
   "cell_type": "code",
   "execution_count": 12,
   "id": "680764ae",
   "metadata": {},
   "outputs": [
    {
     "data": {
      "text/plain": [
       "30.83411081283281"
      ]
     },
     "execution_count": 12,
     "metadata": {},
     "output_type": "execute_result"
    }
   ],
   "source": [
    "df['Age'].dropna().mean()"
   ]
  },
  {
   "cell_type": "code",
   "execution_count": 13,
   "id": "0a11bc68",
   "metadata": {},
   "outputs": [],
   "source": [
    "df['Age'].replace(np.nan, 31, inplace=True)"
   ]
  },
  {
   "cell_type": "code",
   "execution_count": 14,
   "id": "5853e034",
   "metadata": {},
   "outputs": [
    {
     "data": {
      "text/plain": [
       "array(['13', '19', '15', '18', '16', '14', '12', '20', '42', '8', '25',\n",
       "       '22', '30', '17', '21', '10', '46', '9', '7', '11', '6', nan, '31',\n",
       "       '29', '5', 'Younger than 5 years', '28', '38', '23', '27', '41',\n",
       "       '24', '53', '26', '35', '32', '40', '33', '36', '54', '48', '56',\n",
       "       '45', '44', '34', 'Older than 85', '39', '51', '68', '50', '37',\n",
       "       '47', '43', '52', '85', '64', '55', '58', '49', '76', '72', '73',\n",
       "       '83', '63'], dtype=object)"
      ]
     },
     "execution_count": 14,
     "metadata": {},
     "output_type": "execute_result"
    }
   ],
   "source": [
    "df['Age1stCode'].unique()"
   ]
  },
  {
   "cell_type": "code",
   "execution_count": 15,
   "id": "083407ba",
   "metadata": {},
   "outputs": [],
   "source": [
    "df['Age1stCode'].replace(['Younger than 5 years', 'Older than 85'], ['5', '85'], inplace=True)"
   ]
  },
  {
   "cell_type": "code",
   "execution_count": 16,
   "id": "705f88f5",
   "metadata": {},
   "outputs": [],
   "source": [
    "df['Age1stCode'].replace(np.nan, df['Age1stCode'].median(), inplace=True)"
   ]
  },
  {
   "cell_type": "code",
   "execution_count": 17,
   "id": "50157916",
   "metadata": {},
   "outputs": [],
   "source": [
    "df['Experience'] = df['Age'].astype(int) - df['Age1stCode'].astype(int)"
   ]
  },
  {
   "cell_type": "code",
   "execution_count": 18,
   "id": "f99e48d1",
   "metadata": {},
   "outputs": [
    {
     "data": {
      "text/plain": [
       "Respondent\n",
       "1        18\n",
       "2        12\n",
       "3        16\n",
       "4         7\n",
       "5        15\n",
       "         ..\n",
       "64858    15\n",
       "64867    16\n",
       "64898    16\n",
       "64925    16\n",
       "65112    16\n",
       "Name: Experience, Length: 64461, dtype: int64"
      ]
     },
     "execution_count": 18,
     "metadata": {},
     "output_type": "execute_result"
    }
   ],
   "source": [
    "df['Experience']"
   ]
  },
  {
   "cell_type": "code",
   "execution_count": 19,
   "id": "cf74cced",
   "metadata": {},
   "outputs": [],
   "source": [
    "df['YearsCode'].replace(['Less than 1 year', 'More than 50 years', np.nan], [0, 51, df['YearsCode'].mode(dropna=True)], inplace=True)\n",
    "df['real'] = (df['YearsCode'].astype(int) - df['Experience'].astype(int) <= 5)"
   ]
  },
  {
   "cell_type": "code",
   "execution_count": 29,
   "id": "873f3ab8",
   "metadata": {},
   "outputs": [
    {
     "data": {
      "text/plain": [
       "([<matplotlib.patches.Wedge at 0x7f7f4e2d2cd0>,\n",
       "  <matplotlib.patches.Wedge at 0x7f7f4e2df490>],\n",
       " [Text(-1.0941999969571718, 0.11281119917333271, \"Didn't lie\"),\n",
       "  Text(1.193672713871225, -0.123066860524288, 'lied')],\n",
       " [Text(-0.5968363619766391, 0.06153338136727238, '96.7%'),\n",
       "  Text(0.6963090830915479, -0.07178900197250132, '3.3%')])"
      ]
     },
     "execution_count": 29,
     "metadata": {},
     "output_type": "execute_result"
    },
    {
     "data": {
      "image/png": "[encoded data removed]",
      "text/plain": [
       "<Figure size 432x288 with 1 Axes>"
      ]
     },
     "metadata": {},
     "output_type": "display_data"
    }
   ],
   "source": [
    "labels = [\"Didn't lie\", \"lied\"]\n",
    "plt.style.use('fivethirtyeight')\n",
    "plt.pie(df['real'].value_counts(), autopct=\"%.1f%%\", labels=labels, explode=(0, 0.1))"
   ]
  },
  {
   "cell_type": "code",
   "execution_count": null,
   "id": "b56c1d45",
   "metadata": {},
   "outputs": [],
   "source": []
  }
 ],
 "metadata": {
  "kernelspec": {
   "display_name": "Python 3",
   "language": "python",
   "name": "python3"
  },
  "language_info": {
   "codemirror_mode": {
    "name": "ipython",
    "version": 3
   },
   "file_extension": ".py",
   "mimetype": "text/x-python",
   "name": "python",
   "nbconvert_exporter": "python",
   "pygments_lexer": "ipython3",
   "version": "3.9.5"
  }
 },
 "nbformat": 4,
 "nbformat_minor": 5
}
